{
 "cells": [
  {
   "cell_type": "markdown",
   "metadata": {},
   "source": [
    "# Shopify Datascience Question 1"
   ]
  },
  {
   "cell_type": "code",
   "execution_count": 1,
   "metadata": {},
   "outputs": [],
   "source": [
    "#load in data to dataframe and libraries\n",
    "import numpy as np\n",
    "import pandas as pd\n",
    "\n",
    "from numpy import mean\n",
    "from numpy import std\n",
    "from numpy import percentile\n"
   ]
  },
  {
   "cell_type": "code",
   "execution_count": 2,
   "metadata": {},
   "outputs": [
    {
     "data": {
      "text/html": [
       "<div>\n",
       "<style scoped>\n",
       "    .dataframe tbody tr th:only-of-type {\n",
       "        vertical-align: middle;\n",
       "    }\n",
       "\n",
       "    .dataframe tbody tr th {\n",
       "        vertical-align: top;\n",
       "    }\n",
       "\n",
       "    .dataframe thead th {\n",
       "        text-align: right;\n",
       "    }\n",
       "</style>\n",
       "<table border=\"1\" class=\"dataframe\">\n",
       "  <thead>\n",
       "    <tr style=\"text-align: right;\">\n",
       "      <th></th>\n",
       "      <th>shop_id</th>\n",
       "      <th>user_id</th>\n",
       "      <th>order_amount</th>\n",
       "      <th>total_items</th>\n",
       "      <th>payment_method</th>\n",
       "      <th>created_at</th>\n",
       "    </tr>\n",
       "    <tr>\n",
       "      <th>order_id</th>\n",
       "      <th></th>\n",
       "      <th></th>\n",
       "      <th></th>\n",
       "      <th></th>\n",
       "      <th></th>\n",
       "      <th></th>\n",
       "    </tr>\n",
       "  </thead>\n",
       "  <tbody>\n",
       "    <tr>\n",
       "      <th>1</th>\n",
       "      <td>53</td>\n",
       "      <td>746</td>\n",
       "      <td>224</td>\n",
       "      <td>2</td>\n",
       "      <td>cash</td>\n",
       "      <td>2017-03-13 12:36:56</td>\n",
       "    </tr>\n",
       "    <tr>\n",
       "      <th>2</th>\n",
       "      <td>92</td>\n",
       "      <td>925</td>\n",
       "      <td>90</td>\n",
       "      <td>1</td>\n",
       "      <td>cash</td>\n",
       "      <td>2017-03-03 17:38:52</td>\n",
       "    </tr>\n",
       "    <tr>\n",
       "      <th>3</th>\n",
       "      <td>44</td>\n",
       "      <td>861</td>\n",
       "      <td>144</td>\n",
       "      <td>1</td>\n",
       "      <td>cash</td>\n",
       "      <td>2017-03-14 4:23:56</td>\n",
       "    </tr>\n",
       "    <tr>\n",
       "      <th>4</th>\n",
       "      <td>18</td>\n",
       "      <td>935</td>\n",
       "      <td>156</td>\n",
       "      <td>1</td>\n",
       "      <td>credit_card</td>\n",
       "      <td>2017-03-26 12:43:37</td>\n",
       "    </tr>\n",
       "    <tr>\n",
       "      <th>5</th>\n",
       "      <td>18</td>\n",
       "      <td>883</td>\n",
       "      <td>156</td>\n",
       "      <td>1</td>\n",
       "      <td>credit_card</td>\n",
       "      <td>2017-03-01 4:35:11</td>\n",
       "    </tr>\n",
       "    <tr>\n",
       "      <th>...</th>\n",
       "      <td>...</td>\n",
       "      <td>...</td>\n",
       "      <td>...</td>\n",
       "      <td>...</td>\n",
       "      <td>...</td>\n",
       "      <td>...</td>\n",
       "    </tr>\n",
       "    <tr>\n",
       "      <th>4996</th>\n",
       "      <td>73</td>\n",
       "      <td>993</td>\n",
       "      <td>330</td>\n",
       "      <td>2</td>\n",
       "      <td>debit</td>\n",
       "      <td>2017-03-30 13:47:17</td>\n",
       "    </tr>\n",
       "    <tr>\n",
       "      <th>4997</th>\n",
       "      <td>48</td>\n",
       "      <td>789</td>\n",
       "      <td>234</td>\n",
       "      <td>2</td>\n",
       "      <td>cash</td>\n",
       "      <td>2017-03-16 20:36:16</td>\n",
       "    </tr>\n",
       "    <tr>\n",
       "      <th>4998</th>\n",
       "      <td>56</td>\n",
       "      <td>867</td>\n",
       "      <td>351</td>\n",
       "      <td>3</td>\n",
       "      <td>cash</td>\n",
       "      <td>2017-03-19 5:42:42</td>\n",
       "    </tr>\n",
       "    <tr>\n",
       "      <th>4999</th>\n",
       "      <td>60</td>\n",
       "      <td>825</td>\n",
       "      <td>354</td>\n",
       "      <td>2</td>\n",
       "      <td>credit_card</td>\n",
       "      <td>2017-03-16 14:51:18</td>\n",
       "    </tr>\n",
       "    <tr>\n",
       "      <th>5000</th>\n",
       "      <td>44</td>\n",
       "      <td>734</td>\n",
       "      <td>288</td>\n",
       "      <td>2</td>\n",
       "      <td>debit</td>\n",
       "      <td>2017-03-18 15:48:18</td>\n",
       "    </tr>\n",
       "  </tbody>\n",
       "</table>\n",
       "<p>5000 rows × 6 columns</p>\n",
       "</div>"
      ],
      "text/plain": [
       "          shop_id  user_id  order_amount  total_items payment_method  \\\n",
       "order_id                                                               \n",
       "1              53      746           224            2           cash   \n",
       "2              92      925            90            1           cash   \n",
       "3              44      861           144            1           cash   \n",
       "4              18      935           156            1    credit_card   \n",
       "5              18      883           156            1    credit_card   \n",
       "...           ...      ...           ...          ...            ...   \n",
       "4996           73      993           330            2          debit   \n",
       "4997           48      789           234            2           cash   \n",
       "4998           56      867           351            3           cash   \n",
       "4999           60      825           354            2    credit_card   \n",
       "5000           44      734           288            2          debit   \n",
       "\n",
       "                   created_at  \n",
       "order_id                       \n",
       "1         2017-03-13 12:36:56  \n",
       "2         2017-03-03 17:38:52  \n",
       "3          2017-03-14 4:23:56  \n",
       "4         2017-03-26 12:43:37  \n",
       "5          2017-03-01 4:35:11  \n",
       "...                       ...  \n",
       "4996      2017-03-30 13:47:17  \n",
       "4997      2017-03-16 20:36:16  \n",
       "4998       2017-03-19 5:42:42  \n",
       "4999      2017-03-16 14:51:18  \n",
       "5000      2017-03-18 15:48:18  \n",
       "\n",
       "[5000 rows x 6 columns]"
      ]
     },
     "execution_count": 2,
     "metadata": {},
     "output_type": "execute_result"
    }
   ],
   "source": [
    "df = pd.read_csv('2019 Winter Data Science Intern Challenge Data Set - Sheet1.csv') \n",
    "df = df.set_index('order_id')\n",
    "df"
   ]
  },
  {
   "cell_type": "markdown",
   "metadata": {},
   "source": [
    "# a) better AOV"
   ]
  },
  {
   "cell_type": "code",
   "execution_count": 3,
   "metadata": {},
   "outputs": [
    {
     "data": {
      "text/plain": [
       "3145.128"
      ]
     },
     "execution_count": 3,
     "metadata": {},
     "output_type": "execute_result"
    }
   ],
   "source": [
    "OrderSum = sum(df['order_amount'])\n",
    "OrderSum/5000"
   ]
  },
  {
   "cell_type": "code",
   "execution_count": 4,
   "metadata": {},
   "outputs": [
    {
     "name": "stdout",
     "output_type": "stream",
     "text": [
      "3145.128\n",
      "41278.41088841982\n"
     ]
    }
   ],
   "source": [
    "data = df['order_amount']\n",
    "print(mean(data))\n",
    "print(std(data))"
   ]
  },
  {
   "cell_type": "code",
   "execution_count": 5,
   "metadata": {},
   "outputs": [
    {
     "data": {
      "text/plain": [
       "723.2617422721798"
      ]
     },
     "execution_count": 5,
     "metadata": {},
     "output_type": "execute_result"
    }
   ],
   "source": [
    "offset =  std(data)*3\n",
    "ValidData = data.loc[(data <= offset)] \n",
    "mean(ValidData)"
   ]
  },
  {
   "cell_type": "code",
   "execution_count": 6,
   "metadata": {},
   "outputs": [
    {
     "name": "stdout",
     "output_type": "stream",
     "text": [
      "163.0\n",
      "390.0\n",
      "227.0\n"
     ]
    },
    {
     "data": {
      "text/plain": [
       "340.5"
      ]
     },
     "execution_count": 6,
     "metadata": {},
     "output_type": "execute_result"
    }
   ],
   "source": [
    "q25 = percentile(data, 25)\n",
    "q75 = percentile(data, 75)\n",
    "midpoint = q75 - q25\n",
    "print(q25)\n",
    "print(q75)\n",
    "print(midpoint)\n",
    "cut_off = midpoint * 1.5\n",
    "cut_off"
   ]
  },
  {
   "cell_type": "code",
   "execution_count": 7,
   "metadata": {},
   "outputs": [
    {
     "name": "stdout",
     "output_type": "stream",
     "text": [
      "0\n",
      "730.5\n"
     ]
    }
   ],
   "source": [
    "lower = q25 - cut_off\n",
    "if(lower < 0):\n",
    "    lower = 0 \n",
    "upper = q75 + cut_off\n",
    "print(lower)\n",
    "print(upper)"
   ]
  },
  {
   "cell_type": "code",
   "execution_count": 8,
   "metadata": {},
   "outputs": [],
   "source": [
    "ValidData = data.loc[(data >= lower) & (data <= upper)] "
   ]
  },
  {
   "cell_type": "code",
   "execution_count": 9,
   "metadata": {},
   "outputs": [
    {
     "data": {
      "text/plain": [
       "293.7153735336489"
      ]
     },
     "execution_count": 9,
     "metadata": {},
     "output_type": "execute_result"
    }
   ],
   "source": [
    "mean(ValidData)"
   ]
  },
  {
   "cell_type": "markdown",
   "metadata": {},
   "source": [
    "# b) and c) better metrics with values "
   ]
  },
  {
   "cell_type": "code",
   "execution_count": 10,
   "metadata": {},
   "outputs": [],
   "source": [
    "# weighted average : formula applied  orderamount/ totalItems  average value per item \n",
    "# based on shopid, userid "
   ]
  },
  {
   "cell_type": "code",
   "execution_count": 11,
   "metadata": {},
   "outputs": [
    {
     "data": {
      "text/plain": [
       "15725640"
      ]
     },
     "execution_count": 11,
     "metadata": {},
     "output_type": "execute_result"
    }
   ],
   "source": [
    "# overall\n",
    "OrderAmountSum = sum(df['order_amount'])\n",
    "OrderAmountSum"
   ]
  },
  {
   "cell_type": "code",
   "execution_count": 12,
   "metadata": {},
   "outputs": [
    {
     "data": {
      "text/plain": [
       "43936"
      ]
     },
     "execution_count": 12,
     "metadata": {},
     "output_type": "execute_result"
    }
   ],
   "source": [
    "SumNumberOfItems = sum(df['total_items'])\n",
    "SumNumberOfItems"
   ]
  },
  {
   "cell_type": "code",
   "execution_count": 13,
   "metadata": {},
   "outputs": [
    {
     "name": "stdout",
     "output_type": "stream",
     "text": [
      "The overall weighted average of is wavg:357.92152221412965\n"
     ]
    }
   ],
   "source": [
    "# overall weighted aveage\n",
    "wavg = OrderAmountSum/SumNumberOfItems\n",
    "print(\"The overall weighted average of is wavg: \" + str(wavg))"
   ]
  },
  {
   "cell_type": "code",
   "execution_count": 14,
   "metadata": {},
   "outputs": [
    {
     "name": "stdout",
     "output_type": "stream",
     "text": [
      "1\n",
      "shop wavg:\n",
      "158.0\n",
      "2\n",
      "shop wavg:\n",
      "94.0\n",
      "3\n",
      "shop wavg:\n",
      "148.0\n",
      "4\n",
      "shop wavg:\n",
      "128.0\n",
      "5\n",
      "shop wavg:\n",
      "142.0\n",
      "6\n",
      "shop wavg:\n",
      "187.0\n",
      "7\n",
      "shop wavg:\n",
      "112.0\n",
      "8\n",
      "shop wavg:\n",
      "132.0\n",
      "9\n",
      "shop wavg:\n",
      "118.0\n",
      "10\n",
      "shop wavg:\n",
      "148.0\n",
      "11\n",
      "shop wavg:\n",
      "184.0\n",
      "12\n",
      "shop wavg:\n",
      "201.0\n",
      "13\n",
      "shop wavg:\n",
      "160.0\n",
      "14\n",
      "shop wavg:\n",
      "116.0\n",
      "15\n",
      "shop wavg:\n",
      "153.0\n",
      "16\n",
      "shop wavg:\n",
      "156.0\n",
      "17\n",
      "shop wavg:\n",
      "176.0\n",
      "18\n",
      "shop wavg:\n",
      "156.0\n",
      "19\n",
      "shop wavg:\n",
      "163.0\n",
      "20\n",
      "shop wavg:\n",
      "127.0\n",
      "21\n",
      "shop wavg:\n",
      "142.0\n",
      "22\n",
      "shop wavg:\n",
      "146.0\n",
      "23\n",
      "shop wavg:\n",
      "156.0\n",
      "24\n",
      "shop wavg:\n",
      "140.0\n",
      "25\n",
      "shop wavg:\n",
      "130.0\n",
      "26\n",
      "shop wavg:\n",
      "176.0\n",
      "27\n",
      "shop wavg:\n",
      "169.0\n",
      "28\n",
      "shop wavg:\n",
      "164.0\n",
      "29\n",
      "shop wavg:\n",
      "163.0\n",
      "30\n",
      "shop wavg:\n",
      "153.0\n",
      "31\n",
      "shop wavg:\n",
      "129.0\n",
      "32\n",
      "shop wavg:\n",
      "101.0\n",
      "33\n",
      "shop wavg:\n",
      "173.0\n",
      "34\n",
      "shop wavg:\n",
      "122.0\n",
      "35\n",
      "shop wavg:\n",
      "164.0\n",
      "36\n",
      "shop wavg:\n",
      "130.0\n",
      "37\n",
      "shop wavg:\n",
      "142.0\n",
      "38\n",
      "shop wavg:\n",
      "190.0\n",
      "39\n",
      "shop wavg:\n",
      "134.0\n",
      "40\n",
      "shop wavg:\n",
      "161.0\n",
      "41\n",
      "shop wavg:\n",
      "118.0\n",
      "42\n",
      "shop wavg:\n",
      "352.0\n",
      "43\n",
      "shop wavg:\n",
      "181.0\n",
      "44\n",
      "shop wavg:\n",
      "144.0\n",
      "45\n",
      "shop wavg:\n",
      "142.0\n",
      "46\n",
      "shop wavg:\n",
      "166.0\n",
      "47\n",
      "shop wavg:\n",
      "145.0\n",
      "48\n",
      "shop wavg:\n",
      "117.0\n",
      "49\n",
      "shop wavg:\n",
      "129.0\n",
      "50\n",
      "shop wavg:\n",
      "193.0\n",
      "51\n",
      "shop wavg:\n",
      "187.0\n",
      "52\n",
      "shop wavg:\n",
      "146.0\n",
      "53\n",
      "shop wavg:\n",
      "112.0\n",
      "54\n",
      "shop wavg:\n",
      "133.0\n",
      "55\n",
      "shop wavg:\n",
      "171.0\n",
      "56\n",
      "shop wavg:\n",
      "117.0\n",
      "57\n",
      "shop wavg:\n",
      "147.0\n",
      "58\n",
      "shop wavg:\n",
      "138.0\n",
      "59\n",
      "shop wavg:\n",
      "178.0\n",
      "60\n",
      "shop wavg:\n",
      "177.0\n",
      "61\n",
      "shop wavg:\n",
      "158.0\n",
      "62\n",
      "shop wavg:\n",
      "160.0\n",
      "63\n",
      "shop wavg:\n",
      "136.0\n",
      "64\n",
      "shop wavg:\n",
      "133.0\n",
      "65\n",
      "shop wavg:\n",
      "154.0\n",
      "66\n",
      "shop wavg:\n",
      "161.0\n",
      "67\n",
      "shop wavg:\n",
      "131.0\n",
      "68\n",
      "shop wavg:\n",
      "136.0\n",
      "69\n",
      "shop wavg:\n",
      "131.0\n",
      "70\n",
      "shop wavg:\n",
      "173.0\n",
      "71\n",
      "shop wavg:\n",
      "164.0\n",
      "72\n",
      "shop wavg:\n",
      "160.0\n",
      "73\n",
      "shop wavg:\n",
      "165.0\n",
      "74\n",
      "shop wavg:\n",
      "153.0\n",
      "75\n",
      "shop wavg:\n",
      "128.0\n",
      "76\n",
      "shop wavg:\n",
      "155.0\n",
      "77\n",
      "shop wavg:\n",
      "156.0\n",
      "78\n",
      "shop wavg:\n",
      "25725.0\n",
      "79\n",
      "shop wavg:\n",
      "181.0\n",
      "80\n",
      "shop wavg:\n",
      "145.0\n",
      "81\n",
      "shop wavg:\n",
      "177.0\n",
      "82\n",
      "shop wavg:\n",
      "177.0\n",
      "83\n",
      "shop wavg:\n",
      "129.0\n",
      "84\n",
      "shop wavg:\n",
      "153.0\n",
      "85\n",
      "shop wavg:\n",
      "172.0\n",
      "86\n",
      "shop wavg:\n",
      "130.0\n",
      "87\n",
      "shop wavg:\n",
      "149.0\n",
      "88\n",
      "shop wavg:\n",
      "176.0\n",
      "89\n",
      "shop wavg:\n",
      "196.0\n",
      "90\n",
      "shop wavg:\n",
      "178.0\n",
      "91\n",
      "shop wavg:\n",
      "160.0\n",
      "92\n",
      "shop wavg:\n",
      "90.0\n",
      "93\n",
      "shop wavg:\n",
      "114.0\n",
      "94\n",
      "shop wavg:\n",
      "134.0\n",
      "95\n",
      "shop wavg:\n",
      "168.0\n",
      "96\n",
      "shop wavg:\n",
      "153.0\n",
      "97\n",
      "shop wavg:\n",
      "162.0\n",
      "98\n",
      "shop wavg:\n",
      "133.0\n",
      "99\n",
      "shop wavg:\n",
      "195.0\n",
      "100\n",
      "shop wavg:\n",
      "111.0\n"
     ]
    }
   ],
   "source": [
    "# weighted average for different shops\n",
    "shop_df = df.groupby('shop_id')\n",
    "for key,i in shop_df:\n",
    "    currentshop = shop_df.get_group(key)\n",
    "    shopAmountSum = (sum(currentshop.order_amount))\n",
    "    shopItemsSum = (sum(currentshop.total_items))\n",
    "    print(key)\n",
    "    print('shop wavg:')\n",
    "    #print(shopAmountSum)\n",
    "    #print(shopItemsSum)\n",
    "    print(shopAmountSum/shopItemsSum)\n",
    "\n",
    "    "
   ]
  },
  {
   "cell_type": "code",
   "execution_count": null,
   "metadata": {},
   "outputs": [],
   "source": []
  }
 ],
 "metadata": {
  "kernelspec": {
   "display_name": "Python 3",
   "language": "python",
   "name": "python3"
  },
  "language_info": {
   "codemirror_mode": {
    "name": "ipython",
    "version": 3
   },
   "file_extension": ".py",
   "mimetype": "text/x-python",
   "name": "python",
   "nbconvert_exporter": "python",
   "pygments_lexer": "ipython3",
   "version": "3.8.2"
  }
 },
 "nbformat": 4,
 "nbformat_minor": 4
}
